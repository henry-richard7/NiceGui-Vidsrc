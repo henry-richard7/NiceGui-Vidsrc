{
 "cells": [
  {
   "cell_type": "code",
   "execution_count": 19,
   "metadata": {},
   "outputs": [],
   "source": [
    "from Api.TmdbApi import TmdbAPI"
   ]
  },
  {
   "cell_type": "code",
   "execution_count": 20,
   "metadata": {},
   "outputs": [],
   "source": [
    "tmdb_api = TmdbAPI()"
   ]
  },
  {
   "cell_type": "code",
   "execution_count": 23,
   "metadata": {},
   "outputs": [
    {
     "data": {
      "text/plain": [
       "[{'id': 117376,\n",
       "  'title': 'Vincenzo',\n",
       "  'banner': 'https://image.tmdb.org/t/p/original/sf7NCqyVUNoyjYuwW5oJke1T1lH.jpg',\n",
       "  'poster': 'https://image.tmdb.org/t/p/original/dvXJgEDQXhL9Ouot2WkBHpQiHGd.jpg',\n",
       "  'ratings': 8.561,\n",
       "  'release_date': '2021-02-20'},\n",
       " {'id': 213120,\n",
       "  'title': \"Vincenzo Malinconico, avvocato d'insuccesso\",\n",
       "  'banner': 'https://image.tmdb.org/t/p/original/7lvpZ3gKJBzW7ZDixWhamUAeAsw.jpg',\n",
       "  'poster': 'https://image.tmdb.org/t/p/original/zlxqKv5Uul9cknvJhOvzmTCzyA9.jpg',\n",
       "  'ratings': 6.5,\n",
       "  'release_date': '2022-10-20'},\n",
       " {'id': 226211,\n",
       "  'title': \"L'album dei ricordi: Vincenzo Nibali\",\n",
       "  'banner': 'https://image.tmdb.org/t/p/original/zACDFIrsX7uT2Iu98YQwRjBwoBq.jpg',\n",
       "  'poster': 'https://image.tmdb.org/t/p/original/oQuKlmC28r2iAoCgVXwaYCzq72B.jpg',\n",
       "  'ratings': 0.0,\n",
       "  'release_date': '2023-05-03'}]"
      ]
     },
     "execution_count": 23,
     "metadata": {},
     "output_type": "execute_result"
    }
   ],
   "source": [
    "await tmdb_api.search(mode=\"tv\", query=\"Vincenzo\")"
   ]
  },
  {
   "cell_type": "code",
   "execution_count": null,
   "metadata": {},
   "outputs": [],
   "source": []
  }
 ],
 "metadata": {
  "kernelspec": {
   "display_name": "Python 3",
   "language": "python",
   "name": "python3"
  },
  "language_info": {
   "codemirror_mode": {
    "name": "ipython",
    "version": 3
   },
   "file_extension": ".py",
   "mimetype": "text/x-python",
   "name": "python",
   "nbconvert_exporter": "python",
   "pygments_lexer": "ipython3",
   "version": "3.9.6"
  }
 },
 "nbformat": 4,
 "nbformat_minor": 2
}
